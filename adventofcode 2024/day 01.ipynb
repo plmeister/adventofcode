{
 "cells": [
  {
   "cell_type": "raw",
   "id": "5ad5c9c5-8be8-44a1-9585-ec0bcfb858a5",
   "metadata": {},
   "source": [
    "load input from file"
   ]
  },
  {
   "cell_type": "code",
   "execution_count": 1,
   "id": "c2d1c8a1-ad9e-48f6-9e37-6ff61c2144b4",
   "metadata": {},
   "outputs": [
    {
     "name": "stdout",
     "output_type": "stream",
     "text": [
      "['97924   12015\\n', '50267   32019\\n', '98415   10716\\n', '64856   63472\\n', '73972   11396\\n', '85009   60876\\n', '16084   81584\\n', '63342   45754\\n', '36722   57910\\n', '71800   33139\\n']\n"
     ]
    }
   ],
   "source": [
    "with open(\"day 01 input.txt\") as file:\n",
    "    lines = [line for line in file]\n",
    "print(lines[0:10])"
   ]
  },
  {
   "cell_type": "raw",
   "id": "251aa9c1-bd3c-4634-a3fd-c8a930c8d172",
   "metadata": {},
   "source": [
    "create two lists from the 2 columns, and sort them into numeric order"
   ]
  },
  {
   "cell_type": "code",
   "execution_count": 3,
   "id": "05c571b0-3a56-4572-9f70-6568f3068999",
   "metadata": {},
   "outputs": [
    {
     "name": "stdout",
     "output_type": "stream",
     "text": [
      "97924   12015\n",
      "\n",
      "(97924, 12015)\n"
     ]
    }
   ],
   "source": [
    "print(lines[0])\n",
    "data = [(int(a[0]), int(a[1])) for a in [line.split() for line in lines]]\n",
    "print(data[0])\n"
   ]
  },
  {
   "cell_type": "raw",
   "id": "037f133d-a9b9-42b2-940c-0125cdc190f1",
   "metadata": {},
   "source": [
    "now split into 2 lists"
   ]
  },
  {
   "cell_type": "code",
   "execution_count": 4,
   "id": "a85250b9-9ac6-4516-824f-d6400a84d110",
   "metadata": {},
   "outputs": [
    {
     "name": "stdout",
     "output_type": "stream",
     "text": [
      "[10024, 10208, 10261, 10294, 10638, 10674, 10765, 10808, 10940, 11229]\n",
      "[10028, 10043, 10112, 10162, 10314, 10346, 10496, 10716, 10777, 10788]\n"
     ]
    }
   ],
   "source": [
    "list1 = [d[0] for d in data]\n",
    "list1.sort()\n",
    "list2 = [d[1] for d in data]\n",
    "list2.sort()\n",
    "\n",
    "print(list1[0:10])\n",
    "print(list2[0:10])"
   ]
  },
  {
   "cell_type": "raw",
   "id": "65fa76c8-c549-4cee-aca7-a056b06c2139",
   "metadata": {},
   "source": [
    "zip sorted lists together and calculate difference between them"
   ]
  },
  {
   "cell_type": "code",
   "execution_count": 5,
   "id": "cb46591f-82ba-4800-b746-160bb7b850e2",
   "metadata": {},
   "outputs": [
    {
     "name": "stdout",
     "output_type": "stream",
     "text": [
      "[(10024, 10028), (10208, 10043), (10261, 10112), (10294, 10162), (10638, 10314), (10674, 10346), (10765, 10496), (10808, 10716), (10940, 10777), (11229, 10788)]\n",
      "[4, 165, 149, 132, 324, 328, 269, 92, 163, 441]\n",
      "Answer:  2000468\n"
     ]
    }
   ],
   "source": [
    "zipped = list(zip(list1, list2))\n",
    "print(zipped[0:10])\n",
    "diffs = [abs(z[0] - z[1]) for z in zipped]\n",
    "print(diffs[0:10])\n",
    "print(\"Answer: \", sum(diffs))"
   ]
  },
  {
   "cell_type": "raw",
   "id": "e1053705-5449-48ab-87ad-6ea7f943d760",
   "metadata": {},
   "source": [
    "count instances of list1 elements in list2"
   ]
  },
  {
   "cell_type": "code",
   "execution_count": 7,
   "id": "7ebb22fd-98a9-40ac-a90b-e5f8a6ea8cd4",
   "metadata": {},
   "outputs": [
    {
     "name": "stdout",
     "output_type": "stream",
     "text": [
      "Answer2: 18567089\n"
     ]
    }
   ],
   "source": [
    "counts = [len([y for y in list2 if y == x]) for x in list1]\n",
    "print(\"Answer2:\", sum([x[0] * x[1] for x in zip(list1, counts)]))"
   ]
  },
  {
   "cell_type": "code",
   "execution_count": null,
   "id": "5b18afb0-4840-4ee4-8ffd-ae2dcf6e63c4",
   "metadata": {},
   "outputs": [],
   "source": []
  }
 ],
 "metadata": {
  "kernelspec": {
   "display_name": "Python 3 (ipykernel)",
   "language": "python",
   "name": "python3"
  },
  "language_info": {
   "codemirror_mode": {
    "name": "ipython",
    "version": 3
   },
   "file_extension": ".py",
   "mimetype": "text/x-python",
   "name": "python",
   "nbconvert_exporter": "python",
   "pygments_lexer": "ipython3",
   "version": "3.11.4"
  }
 },
 "nbformat": 4,
 "nbformat_minor": 5
}
