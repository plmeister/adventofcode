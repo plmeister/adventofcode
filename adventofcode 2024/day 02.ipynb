{
 "cells": [
  {
   "cell_type": "code",
   "execution_count": 3,
   "id": "e7f0f777-c1f4-4fb9-8730-331d78f178ae",
   "metadata": {},
   "outputs": [
    {
     "name": "stdout",
     "output_type": "stream",
     "text": [
      "Test Answer 1: 2\n",
      "Answer 1: 663\n",
      "Test Answer 2: 4\n",
      "Answer 2: 686\n"
     ]
    }
   ],
   "source": [
    "lines = [line for line in open(\"day 02 input.txt\")]\n",
    "\n",
    "def get_data(lines):\n",
    "    return [[int(y) for y in x.split()] for x in lines]\n",
    "\n",
    "def is_safe(seq):\n",
    "    pairs = [(seq[x], seq[x + 1]) for x in range(len(seq)-1)]\n",
    "    diffs = [x[1] - x[0] for x in pairs]\n",
    "    unsafe_asc = [x for x in diffs if x not in (1,2,3)]\n",
    "    unsafe_dsc = [x for x in diffs if x not in (-1,-2,-3)]\n",
    "    return len(unsafe_asc) == 0 or len(unsafe_dsc) == 0\n",
    "    \n",
    "def damp_safe(seq):\n",
    "    count = 0\n",
    "    for x in range(len(seq)-1):\n",
    "        newseq = seq[:x] + seq[x+1:]\n",
    "        if is_safe(newseq):\n",
    "            count += 1\n",
    "    return count == \n",
    "\n",
    "data = get_data(lines)\n",
    "testdata = get_data(\"\"\"7 6 4 2 1\n",
    "1 2 7 8 9\n",
    "9 7 6 2 1\n",
    "1 3 2 4 5\n",
    "8 6 4 4 1\n",
    "1 3 6 7 9\"\"\".split(\"\\n\"))\n",
    "\n",
    "def get_safe(d, f):\n",
    "    return [x for x in d if f(x)]\n",
    "    \n",
    "print(\"Test Answer 1:\", len(get_safe(testdata, is_safe)))\n",
    "print(\"Answer 1:\", len(get_safe(data, is_safe)))\n",
    "\n",
    "print(\"Test Answer 2:\", len(get_safe(testdata, damp_safe)))\n",
    "print(\"Answer 2:\", len(get_safe(data, lambda x: is_safe(x) or damp_safe(x))))\n"
   ]
  },
  {
   "cell_type": "code",
   "execution_count": null,
   "id": "9772e6d9-ced2-4162-8e5e-dff195df850f",
   "metadata": {},
   "outputs": [],
   "source": []
  },
  {
   "cell_type": "code",
   "execution_count": null,
   "id": "fb7d0261-7335-400c-adb6-e6d46e9ad02a",
   "metadata": {},
   "outputs": [],
   "source": []
  }
 ],
 "metadata": {
  "kernelspec": {
   "display_name": "Python 3 (ipykernel)",
   "language": "python",
   "name": "python3"
  },
  "language_info": {
   "codemirror_mode": {
    "name": "ipython",
    "version": 3
   },
   "file_extension": ".py",
   "mimetype": "text/x-python",
   "name": "python",
   "nbconvert_exporter": "python",
   "pygments_lexer": "ipython3",
   "version": "3.11.4"
  }
 },
 "nbformat": 4,
 "nbformat_minor": 5
}
