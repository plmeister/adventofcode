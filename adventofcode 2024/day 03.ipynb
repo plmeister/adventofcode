{
 "cells": [
  {
   "cell_type": "code",
   "execution_count": 5,
   "id": "9b9b04b7-b292-4a64-9cf5-2672c6f14324",
   "metadata": {},
   "outputs": [],
   "source": [
    "with open(\"day 03 input.txt\") as f:\n",
    "    data = f.read()\n",
    "\n",
    "testdata = \"xmul(2,4)%&mul[3,7]!@^do_not_mul(5,5)+mul(32,64]then(mul(11,8)mul(8,5))\"\n"
   ]
  },
  {
   "cell_type": "code",
   "execution_count": 10,
   "id": "99111895-32b0-4b28-9d07-92a675427bd9",
   "metadata": {},
   "outputs": [
    {
     "name": "stdout",
     "output_type": "stream",
     "text": [
      "Answer test: 161\n",
      "Answer 1: 173785482\n"
     ]
    }
   ],
   "source": [
    "import re\n",
    "r = re.compile(\"mul\\((\\d{1,3}),(\\d{1,3})\\)\")\n",
    "def calculate(s):\n",
    "    return sum([int(x[0]) * int(x[1]) for x in r.findall(s)])\n",
    "\n",
    "print(\"Answer test:\", calculate(testdata))\n",
    "print(\"Answer 1:\", calculate(data))\n"
   ]
  },
  {
   "cell_type": "code",
   "execution_count": null,
   "id": "8db49c6b-d683-46d0-932e-c994f5e730fb",
   "metadata": {},
   "outputs": [],
   "source": []
  }
 ],
 "metadata": {
  "kernelspec": {
   "display_name": "Python 3 (ipykernel)",
   "language": "python",
   "name": "python3"
  },
  "language_info": {
   "codemirror_mode": {
    "name": "ipython",
    "version": 3
   },
   "file_extension": ".py",
   "mimetype": "text/x-python",
   "name": "python",
   "nbconvert_exporter": "python",
   "pygments_lexer": "ipython3",
   "version": "3.11.4"
  }
 },
 "nbformat": 4,
 "nbformat_minor": 5
}
